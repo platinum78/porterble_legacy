{
 "cells": [
  {
   "cell_type": "code",
   "execution_count": 1,
   "metadata": {},
   "outputs": [],
   "source": [
    "import os, sys, cv2\n",
    "sys.path.append(\"/Users/susung/Documents/02_Projects/porterble/\")\n",
    "from cv2 import aruco\n",
    "from matplotlib import pyplot as plt\n",
    "from scripts.vehicle_interface.driver.camera_handler import *\n",
    "from scripts.vehicle_interface.driver.aruco_detector import *\n",
    "from scripts.vehicle_interface.driver.path_generator import *\n",
    "from scripts.vehicle_interface.driver.geometry_datatypes import Pose2D"
   ]
  },
  {
   "cell_type": "code",
   "execution_count": 2,
   "metadata": {},
   "outputs": [],
   "source": [
    "marker2 = Pose2D(0.05, 0.0, 0)\n",
    "marker3 = Pose2D(0.05, 0.0, 0)\n",
    "docking_pose = Pose2D(0.05, 0, 0)\n",
    "pose_estimator = TripleMarkerPoseEstimator(marker2, marker3, docking_pose)"
   ]
  },
  {
   "cell_type": "code",
   "execution_count": 4,
   "metadata": {},
   "outputs": [
    {
     "name": "stdout",
     "output_type": "stream",
     "text": [
      "[ INFO ] 1563776037.362636 : All markers properly detected.\n",
      "Offset: [0.044422, -0.392157], Rotation: 99.739895\n"
     ]
    }
   ],
   "source": [
    "pose_estimator.compute_pose()\n",
    "print(pose_estimator)"
   ]
  },
  {
   "cell_type": "code",
   "execution_count": null,
   "metadata": {},
   "outputs": [],
   "source": []
  },
  {
   "cell_type": "code",
   "execution_count": null,
   "metadata": {},
   "outputs": [],
   "source": []
  },
  {
   "cell_type": "code",
   "execution_count": null,
   "metadata": {},
   "outputs": [],
   "source": []
  }
 ],
 "metadata": {
  "kernelspec": {
   "display_name": "Python 3",
   "language": "python",
   "name": "python3"
  },
  "language_info": {
   "codemirror_mode": {
    "name": "ipython",
    "version": 3
   },
   "file_extension": ".py",
   "mimetype": "text/x-python",
   "name": "python",
   "nbconvert_exporter": "python",
   "pygments_lexer": "ipython3",
   "version": "3.6.8"
  }
 },
 "nbformat": 4,
 "nbformat_minor": 2
}

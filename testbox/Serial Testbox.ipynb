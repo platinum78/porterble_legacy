{
 "cells": [
  {
   "cell_type": "code",
   "execution_count": 1,
   "metadata": {},
   "outputs": [],
   "source": [
    "import os, sys\n",
    "sys.path.append(\"/Users/susung/Documents/02_Projects/porterble/\")\n",
    "import serial, struct\n",
    "from scripts.vehicle_interface.lightings import *"
   ]
  },
  {
   "cell_type": "code",
   "execution_count": 2,
   "metadata": {},
   "outputs": [
    {
     "name": "stdout",
     "output_type": "stream",
     "text": [
      "[ INFO ] 1563436275.110608 : Opened serial port \"/dev/cu.usbmodem1413301\".\n",
      "\u0001\n"
     ]
    }
   ],
   "source": [
    "lightings = Lightings(config_dict)"
   ]
  },
  {
   "cell_type": "code",
   "execution_count": 14,
   "metadata": {},
   "outputs": [],
   "source": [
    "lightings.set_lights(Lightings.LIGHT_FRONT | Lightings.INDICATOR_ALERT | Lightings.LIGHT_REAR)"
   ]
  },
  {
   "cell_type": "code",
   "execution_count": 15,
   "metadata": {},
   "outputs": [],
   "source": [
    "lightings.set_lights(Lightings.LIGHT_FRONT | Lightings.INDICATOR_ALERT)"
   ]
  },
  {
   "cell_type": "code",
   "execution_count": 16,
   "metadata": {},
   "outputs": [],
   "source": [
    "lightings.set_lights(Lightings.LIGHT_FRONT)"
   ]
  },
  {
   "cell_type": "code",
   "execution_count": 17,
   "metadata": {},
   "outputs": [],
   "source": [
    "lightings.set_lights(Lightings.LIGHT_FRONT | Lightings.INDICATOR_ALERT | Lightings.LIGHT_REAR)"
   ]
  },
  {
   "cell_type": "code",
   "execution_count": 18,
   "metadata": {},
   "outputs": [],
   "source": [
    "lightings.set_lights(0b00000000)"
   ]
  }
 ],
 "metadata": {
  "kernelspec": {
   "display_name": "Python 3",
   "language": "python",
   "name": "python3"
  },
  "language_info": {
   "codemirror_mode": {
    "name": "ipython",
    "version": 3
   },
   "file_extension": ".py",
   "mimetype": "text/x-python",
   "name": "python",
   "nbconvert_exporter": "python",
   "pygments_lexer": "ipython3",
   "version": "3.6.8"
  }
 },
 "nbformat": 4,
 "nbformat_minor": 2
}
